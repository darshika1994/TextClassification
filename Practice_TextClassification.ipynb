{
  "cells": [
    {
      "cell_type": "markdown",
      "source": [
        "## Classification Practice Assignment\n",
        "### AUTHOR: Darshika Verma\n",
        "### DATE: 07/27/2024"
      ],
      "metadata": {
        "datalore": {
          "node_id": "9VTcShGYIqvppB3OiW90nX",
          "type": "MD",
          "hide_input_from_viewers": true,
          "hide_output_from_viewers": true
        },
        "id": "9556WHh5hO1o"
      }
    },
    {
      "cell_type": "code",
      "source": [
        "pip install lime"
      ],
      "metadata": {
        "id": "bEMRwqHJvRsn",
        "colab": {
          "base_uri": "https://localhost:8080/"
        },
        "collapsed": true,
        "outputId": "9defd715-3f65-4b42-fe0d-5b310dd6fcec"
      },
      "execution_count": 1,
      "outputs": [
        {
          "output_type": "stream",
          "name": "stdout",
          "text": [
            "Collecting lime\n",
            "  Downloading lime-0.2.0.1.tar.gz (275 kB)\n",
            "\u001b[?25l     \u001b[90m━━━━━━━━━━━━━━━━━━━━━━━━━━━━━━━━━━━━━━━━\u001b[0m \u001b[32m0.0/275.7 kB\u001b[0m \u001b[31m?\u001b[0m eta \u001b[36m-:--:--\u001b[0m\r\u001b[2K     \u001b[91m━━━━━━━━━━━━━━━━━━━━━━━━━━━━━━━━━━━━━━\u001b[0m\u001b[91m╸\u001b[0m\u001b[90m━\u001b[0m \u001b[32m266.2/275.7 kB\u001b[0m \u001b[31m23.2 MB/s\u001b[0m eta \u001b[36m0:00:01\u001b[0m\r\u001b[2K     \u001b[90m━━━━━━━━━━━━━━━━━━━━━━━━━━━━━━━━━━━━━━━━\u001b[0m \u001b[32m275.7/275.7 kB\u001b[0m \u001b[31m6.7 MB/s\u001b[0m eta \u001b[36m0:00:00\u001b[0m\n",
            "\u001b[?25h  Preparing metadata (setup.py) ... \u001b[?25l\u001b[?25hdone\n",
            "Requirement already satisfied: matplotlib in /usr/local/lib/python3.10/dist-packages (from lime) (3.7.1)\n",
            "Requirement already satisfied: numpy in /usr/local/lib/python3.10/dist-packages (from lime) (1.26.4)\n",
            "Requirement already satisfied: scipy in /usr/local/lib/python3.10/dist-packages (from lime) (1.13.1)\n",
            "Requirement already satisfied: tqdm in /usr/local/lib/python3.10/dist-packages (from lime) (4.66.4)\n",
            "Requirement already satisfied: scikit-learn>=0.18 in /usr/local/lib/python3.10/dist-packages (from lime) (1.3.2)\n",
            "Requirement already satisfied: scikit-image>=0.12 in /usr/local/lib/python3.10/dist-packages (from lime) (0.23.2)\n",
            "Requirement already satisfied: networkx>=2.8 in /usr/local/lib/python3.10/dist-packages (from scikit-image>=0.12->lime) (3.3)\n",
            "Requirement already satisfied: pillow>=9.1 in /usr/local/lib/python3.10/dist-packages (from scikit-image>=0.12->lime) (9.4.0)\n",
            "Requirement already satisfied: imageio>=2.33 in /usr/local/lib/python3.10/dist-packages (from scikit-image>=0.12->lime) (2.34.2)\n",
            "Requirement already satisfied: tifffile>=2022.8.12 in /usr/local/lib/python3.10/dist-packages (from scikit-image>=0.12->lime) (2024.7.24)\n",
            "Requirement already satisfied: packaging>=21 in /usr/local/lib/python3.10/dist-packages (from scikit-image>=0.12->lime) (24.1)\n",
            "Requirement already satisfied: lazy-loader>=0.4 in /usr/local/lib/python3.10/dist-packages (from scikit-image>=0.12->lime) (0.4)\n",
            "Requirement already satisfied: joblib>=1.1.1 in /usr/local/lib/python3.10/dist-packages (from scikit-learn>=0.18->lime) (1.4.2)\n",
            "Requirement already satisfied: threadpoolctl>=2.0.0 in /usr/local/lib/python3.10/dist-packages (from scikit-learn>=0.18->lime) (3.5.0)\n",
            "Requirement already satisfied: contourpy>=1.0.1 in /usr/local/lib/python3.10/dist-packages (from matplotlib->lime) (1.2.1)\n",
            "Requirement already satisfied: cycler>=0.10 in /usr/local/lib/python3.10/dist-packages (from matplotlib->lime) (0.12.1)\n",
            "Requirement already satisfied: fonttools>=4.22.0 in /usr/local/lib/python3.10/dist-packages (from matplotlib->lime) (4.53.1)\n",
            "Requirement already satisfied: kiwisolver>=1.0.1 in /usr/local/lib/python3.10/dist-packages (from matplotlib->lime) (1.4.5)\n",
            "Requirement already satisfied: pyparsing>=2.3.1 in /usr/local/lib/python3.10/dist-packages (from matplotlib->lime) (3.1.2)\n",
            "Requirement already satisfied: python-dateutil>=2.7 in /usr/local/lib/python3.10/dist-packages (from matplotlib->lime) (2.8.2)\n",
            "Requirement already satisfied: six>=1.5 in /usr/local/lib/python3.10/dist-packages (from python-dateutil>=2.7->matplotlib->lime) (1.16.0)\n",
            "Building wheels for collected packages: lime\n",
            "  Building wheel for lime (setup.py) ... \u001b[?25l\u001b[?25hdone\n",
            "  Created wheel for lime: filename=lime-0.2.0.1-py3-none-any.whl size=283834 sha256=262025c175029be890f117ffed61f9c8d8ed566c647f95a2e8cf4fda2db5a843\n",
            "  Stored in directory: /root/.cache/pip/wheels/fd/a2/af/9ac0a1a85a27f314a06b39e1f492bee1547d52549a4606ed89\n",
            "Successfully built lime\n",
            "Installing collected packages: lime\n",
            "Successfully installed lime-0.2.0.1\n"
          ]
        }
      ]
    },
    {
      "cell_type": "code",
      "source": [
        "#Load Libraries\n",
        "import re\n",
        "import pandas as pd\n",
        "import numpy as np\n",
        "import html\n",
        "from nltk.tokenize import word_tokenize\n",
        "from nltk.corpus import stopwords\n",
        "import nltk\n",
        "nltk.download('punkt')\n",
        "nltk.download('stopwords')\n",
        "from sklearn.feature_extraction.text import CountVectorizer\n",
        "from gensim.models import Word2Vec"
      ],
      "execution_count": 15,
      "outputs": [
        {
          "output_type": "stream",
          "name": "stderr",
          "text": [
            "[nltk_data] Downloading package punkt to /root/nltk_data...\n",
            "[nltk_data]   Package punkt is already up-to-date!\n",
            "[nltk_data] Downloading package stopwords to /root/nltk_data...\n",
            "[nltk_data]   Package stopwords is already up-to-date!\n"
          ]
        }
      ],
      "metadata": {
        "datalore": {
          "node_id": "FpCiwzXIHEZWKndJB8ptCV",
          "type": "CODE",
          "hide_input_from_viewers": true,
          "hide_output_from_viewers": true
        },
        "colab": {
          "base_uri": "https://localhost:8080/"
        },
        "id": "R671q71DhO1p",
        "outputId": "61cdab43-5343-4e55-f19a-dd3993075d83"
      }
    },
    {
      "cell_type": "markdown",
      "source": [
        "## Step 1: Import Data\n",
        "\n",
        "- Import the stackoverflow data and print the first 5 rows"
      ],
      "metadata": {
        "datalore": {
          "node_id": "SDmOequuWJAIFuUoX6UTwJ",
          "type": "MD",
          "hide_input_from_viewers": true,
          "hide_output_from_viewers": true
        },
        "id": "l91ii63PhO1q"
      }
    },
    {
      "cell_type": "code",
      "source": [
        "df = pd.read_csv('stack_overflow.csv')\n",
        "df.head() #first 5 rows"
      ],
      "execution_count": 10,
      "outputs": [
        {
          "output_type": "execute_result",
          "data": {
            "text/plain": [
              "                                                post    tags\n",
              "0  trying to calculate and print the mean and its...  python\n",
              "1  value initialization of inherited pod types  s...     c++\n",
              "2  imagepng very slow  i have a .php file that s ...     php\n",
              "3  how can i program two dates using date picker ...     php\n",
              "4  what is the best way to change a  base  header...     c++"
            ],
            "text/html": [
              "\n",
              "  <div id=\"df-8d9efddb-dd8e-4459-9570-8b88f909fd4e\" class=\"colab-df-container\">\n",
              "    <div>\n",
              "<style scoped>\n",
              "    .dataframe tbody tr th:only-of-type {\n",
              "        vertical-align: middle;\n",
              "    }\n",
              "\n",
              "    .dataframe tbody tr th {\n",
              "        vertical-align: top;\n",
              "    }\n",
              "\n",
              "    .dataframe thead th {\n",
              "        text-align: right;\n",
              "    }\n",
              "</style>\n",
              "<table border=\"1\" class=\"dataframe\">\n",
              "  <thead>\n",
              "    <tr style=\"text-align: right;\">\n",
              "      <th></th>\n",
              "      <th>post</th>\n",
              "      <th>tags</th>\n",
              "    </tr>\n",
              "  </thead>\n",
              "  <tbody>\n",
              "    <tr>\n",
              "      <th>0</th>\n",
              "      <td>trying to calculate and print the mean and its...</td>\n",
              "      <td>python</td>\n",
              "    </tr>\n",
              "    <tr>\n",
              "      <th>1</th>\n",
              "      <td>value initialization of inherited pod types  s...</td>\n",
              "      <td>c++</td>\n",
              "    </tr>\n",
              "    <tr>\n",
              "      <th>2</th>\n",
              "      <td>imagepng very slow  i have a .php file that s ...</td>\n",
              "      <td>php</td>\n",
              "    </tr>\n",
              "    <tr>\n",
              "      <th>3</th>\n",
              "      <td>how can i program two dates using date picker ...</td>\n",
              "      <td>php</td>\n",
              "    </tr>\n",
              "    <tr>\n",
              "      <th>4</th>\n",
              "      <td>what is the best way to change a  base  header...</td>\n",
              "      <td>c++</td>\n",
              "    </tr>\n",
              "  </tbody>\n",
              "</table>\n",
              "</div>\n",
              "    <div class=\"colab-df-buttons\">\n",
              "\n",
              "  <div class=\"colab-df-container\">\n",
              "    <button class=\"colab-df-convert\" onclick=\"convertToInteractive('df-8d9efddb-dd8e-4459-9570-8b88f909fd4e')\"\n",
              "            title=\"Convert this dataframe to an interactive table.\"\n",
              "            style=\"display:none;\">\n",
              "\n",
              "  <svg xmlns=\"http://www.w3.org/2000/svg\" height=\"24px\" viewBox=\"0 -960 960 960\">\n",
              "    <path d=\"M120-120v-720h720v720H120Zm60-500h600v-160H180v160Zm220 220h160v-160H400v160Zm0 220h160v-160H400v160ZM180-400h160v-160H180v160Zm440 0h160v-160H620v160ZM180-180h160v-160H180v160Zm440 0h160v-160H620v160Z\"/>\n",
              "  </svg>\n",
              "    </button>\n",
              "\n",
              "  <style>\n",
              "    .colab-df-container {\n",
              "      display:flex;\n",
              "      gap: 12px;\n",
              "    }\n",
              "\n",
              "    .colab-df-convert {\n",
              "      background-color: #E8F0FE;\n",
              "      border: none;\n",
              "      border-radius: 50%;\n",
              "      cursor: pointer;\n",
              "      display: none;\n",
              "      fill: #1967D2;\n",
              "      height: 32px;\n",
              "      padding: 0 0 0 0;\n",
              "      width: 32px;\n",
              "    }\n",
              "\n",
              "    .colab-df-convert:hover {\n",
              "      background-color: #E2EBFA;\n",
              "      box-shadow: 0px 1px 2px rgba(60, 64, 67, 0.3), 0px 1px 3px 1px rgba(60, 64, 67, 0.15);\n",
              "      fill: #174EA6;\n",
              "    }\n",
              "\n",
              "    .colab-df-buttons div {\n",
              "      margin-bottom: 4px;\n",
              "    }\n",
              "\n",
              "    [theme=dark] .colab-df-convert {\n",
              "      background-color: #3B4455;\n",
              "      fill: #D2E3FC;\n",
              "    }\n",
              "\n",
              "    [theme=dark] .colab-df-convert:hover {\n",
              "      background-color: #434B5C;\n",
              "      box-shadow: 0px 1px 3px 1px rgba(0, 0, 0, 0.15);\n",
              "      filter: drop-shadow(0px 1px 2px rgba(0, 0, 0, 0.3));\n",
              "      fill: #FFFFFF;\n",
              "    }\n",
              "  </style>\n",
              "\n",
              "    <script>\n",
              "      const buttonEl =\n",
              "        document.querySelector('#df-8d9efddb-dd8e-4459-9570-8b88f909fd4e button.colab-df-convert');\n",
              "      buttonEl.style.display =\n",
              "        google.colab.kernel.accessAllowed ? 'block' : 'none';\n",
              "\n",
              "      async function convertToInteractive(key) {\n",
              "        const element = document.querySelector('#df-8d9efddb-dd8e-4459-9570-8b88f909fd4e');\n",
              "        const dataTable =\n",
              "          await google.colab.kernel.invokeFunction('convertToInteractive',\n",
              "                                                    [key], {});\n",
              "        if (!dataTable) return;\n",
              "\n",
              "        const docLinkHtml = 'Like what you see? Visit the ' +\n",
              "          '<a target=\"_blank\" href=https://colab.research.google.com/notebooks/data_table.ipynb>data table notebook</a>'\n",
              "          + ' to learn more about interactive tables.';\n",
              "        element.innerHTML = '';\n",
              "        dataTable['output_type'] = 'display_data';\n",
              "        await google.colab.output.renderOutput(dataTable, element);\n",
              "        const docLink = document.createElement('div');\n",
              "        docLink.innerHTML = docLinkHtml;\n",
              "        element.appendChild(docLink);\n",
              "      }\n",
              "    </script>\n",
              "  </div>\n",
              "\n",
              "\n",
              "<div id=\"df-dea5f6a1-51d7-4867-ae2b-ac30c64c1fc2\">\n",
              "  <button class=\"colab-df-quickchart\" onclick=\"quickchart('df-dea5f6a1-51d7-4867-ae2b-ac30c64c1fc2')\"\n",
              "            title=\"Suggest charts\"\n",
              "            style=\"display:none;\">\n",
              "\n",
              "<svg xmlns=\"http://www.w3.org/2000/svg\" height=\"24px\"viewBox=\"0 0 24 24\"\n",
              "     width=\"24px\">\n",
              "    <g>\n",
              "        <path d=\"M19 3H5c-1.1 0-2 .9-2 2v14c0 1.1.9 2 2 2h14c1.1 0 2-.9 2-2V5c0-1.1-.9-2-2-2zM9 17H7v-7h2v7zm4 0h-2V7h2v10zm4 0h-2v-4h2v4z\"/>\n",
              "    </g>\n",
              "</svg>\n",
              "  </button>\n",
              "\n",
              "<style>\n",
              "  .colab-df-quickchart {\n",
              "      --bg-color: #E8F0FE;\n",
              "      --fill-color: #1967D2;\n",
              "      --hover-bg-color: #E2EBFA;\n",
              "      --hover-fill-color: #174EA6;\n",
              "      --disabled-fill-color: #AAA;\n",
              "      --disabled-bg-color: #DDD;\n",
              "  }\n",
              "\n",
              "  [theme=dark] .colab-df-quickchart {\n",
              "      --bg-color: #3B4455;\n",
              "      --fill-color: #D2E3FC;\n",
              "      --hover-bg-color: #434B5C;\n",
              "      --hover-fill-color: #FFFFFF;\n",
              "      --disabled-bg-color: #3B4455;\n",
              "      --disabled-fill-color: #666;\n",
              "  }\n",
              "\n",
              "  .colab-df-quickchart {\n",
              "    background-color: var(--bg-color);\n",
              "    border: none;\n",
              "    border-radius: 50%;\n",
              "    cursor: pointer;\n",
              "    display: none;\n",
              "    fill: var(--fill-color);\n",
              "    height: 32px;\n",
              "    padding: 0;\n",
              "    width: 32px;\n",
              "  }\n",
              "\n",
              "  .colab-df-quickchart:hover {\n",
              "    background-color: var(--hover-bg-color);\n",
              "    box-shadow: 0 1px 2px rgba(60, 64, 67, 0.3), 0 1px 3px 1px rgba(60, 64, 67, 0.15);\n",
              "    fill: var(--button-hover-fill-color);\n",
              "  }\n",
              "\n",
              "  .colab-df-quickchart-complete:disabled,\n",
              "  .colab-df-quickchart-complete:disabled:hover {\n",
              "    background-color: var(--disabled-bg-color);\n",
              "    fill: var(--disabled-fill-color);\n",
              "    box-shadow: none;\n",
              "  }\n",
              "\n",
              "  .colab-df-spinner {\n",
              "    border: 2px solid var(--fill-color);\n",
              "    border-color: transparent;\n",
              "    border-bottom-color: var(--fill-color);\n",
              "    animation:\n",
              "      spin 1s steps(1) infinite;\n",
              "  }\n",
              "\n",
              "  @keyframes spin {\n",
              "    0% {\n",
              "      border-color: transparent;\n",
              "      border-bottom-color: var(--fill-color);\n",
              "      border-left-color: var(--fill-color);\n",
              "    }\n",
              "    20% {\n",
              "      border-color: transparent;\n",
              "      border-left-color: var(--fill-color);\n",
              "      border-top-color: var(--fill-color);\n",
              "    }\n",
              "    30% {\n",
              "      border-color: transparent;\n",
              "      border-left-color: var(--fill-color);\n",
              "      border-top-color: var(--fill-color);\n",
              "      border-right-color: var(--fill-color);\n",
              "    }\n",
              "    40% {\n",
              "      border-color: transparent;\n",
              "      border-right-color: var(--fill-color);\n",
              "      border-top-color: var(--fill-color);\n",
              "    }\n",
              "    60% {\n",
              "      border-color: transparent;\n",
              "      border-right-color: var(--fill-color);\n",
              "    }\n",
              "    80% {\n",
              "      border-color: transparent;\n",
              "      border-right-color: var(--fill-color);\n",
              "      border-bottom-color: var(--fill-color);\n",
              "    }\n",
              "    90% {\n",
              "      border-color: transparent;\n",
              "      border-bottom-color: var(--fill-color);\n",
              "    }\n",
              "  }\n",
              "</style>\n",
              "\n",
              "  <script>\n",
              "    async function quickchart(key) {\n",
              "      const quickchartButtonEl =\n",
              "        document.querySelector('#' + key + ' button');\n",
              "      quickchartButtonEl.disabled = true;  // To prevent multiple clicks.\n",
              "      quickchartButtonEl.classList.add('colab-df-spinner');\n",
              "      try {\n",
              "        const charts = await google.colab.kernel.invokeFunction(\n",
              "            'suggestCharts', [key], {});\n",
              "      } catch (error) {\n",
              "        console.error('Error during call to suggestCharts:', error);\n",
              "      }\n",
              "      quickchartButtonEl.classList.remove('colab-df-spinner');\n",
              "      quickchartButtonEl.classList.add('colab-df-quickchart-complete');\n",
              "    }\n",
              "    (() => {\n",
              "      let quickchartButtonEl =\n",
              "        document.querySelector('#df-dea5f6a1-51d7-4867-ae2b-ac30c64c1fc2 button');\n",
              "      quickchartButtonEl.style.display =\n",
              "        google.colab.kernel.accessAllowed ? 'block' : 'none';\n",
              "    })();\n",
              "  </script>\n",
              "</div>\n",
              "\n",
              "    </div>\n",
              "  </div>\n"
            ],
            "application/vnd.google.colaboratory.intrinsic+json": {
              "type": "dataframe",
              "variable_name": "df",
              "summary": "{\n  \"name\": \"df\",\n  \"rows\": 6000,\n  \"fields\": [\n    {\n      \"column\": \"post\",\n      \"properties\": {\n        \"dtype\": \"string\",\n        \"num_unique_values\": 6000,\n        \"samples\": [\n          \"why file isnt uploading in the directory   i am trying to upload files to the directory but i keep getting error or console   <pre><code>get http://localhost:9999/store/uploads/.jgp </code></pre>   whilst my html is    <pre><code>&lt;form action=   method= post  id= formsettingstorelogo  enctype= multipart/form-data &gt;             &lt;div&gt;                 &lt;p&gt;put a logo &lt;/p&gt;                 &lt;br /&gt;                 &lt;input type= file  name= logo  /&gt;                 &lt;input type= submit  name= submitlogo  id= submitlogo  value= upload  /&gt;             &lt;/div&gt;         &lt;/form&gt; </code></pre>   and code of php is    <pre><code>$target_dir =  ../uploads/store/logo/ ; $target_file = $target_dir . basename($_files[ logo ][ name ]); $uploadok = 1; $imagefiletype = pathinfo($target_file pathinfo_extension);  if (move_uploaded_file($_files[ logo ][ name ]  $target_file)) {     echo  \\\\n . the file  . basename( $_files[ logo ][ name ]).   has been uploaded. ; } else {     echo  sorry  there was an error uploading your file. ; } </code></pre>   for further information     my script for uploading images is at    <pre><code>c:/wamp64/www/store/settingstore.php </code></pre>   and the location i want to upload photos are   <pre><code>c:/wamp64/www/uploads/store/logo </code></pre>\",\n          \"parsing string sections  what techniques/modules would you use to parse specific string sections. given lines of the type:   <pre><code>field 1: dog        field 2: first        comment: outstanding field 1: cat        field 2:              comment: some comment about the cat </code></pre>   the field names always end with a colon  the field values can be blank and the fields are separated by spaces only. i just want access to the field values. i know how i would do this using regular expression but i m sure there are more elegant ways to do this with python.\",\n          \"get child s class name from parent  i want to get child s class name from parent pointer.   <pre><code>class parent{ } class child: parent { }  parent* parent = new child; cout &lt;&lt; typeid(parent).name(); //it prints  parent   but i want to print  child  </code></pre>   how to do it\"\n        ],\n        \"semantic_type\": \"\",\n        \"description\": \"\"\n      }\n    },\n    {\n      \"column\": \"tags\",\n      \"properties\": {\n        \"dtype\": \"category\",\n        \"num_unique_values\": 3,\n        \"samples\": [\n          \"python\",\n          \"c++\",\n          \"php\"\n        ],\n        \"semantic_type\": \"\",\n        \"description\": \"\"\n      }\n    }\n  ]\n}"
            }
          },
          "metadata": {},
          "execution_count": 10
        }
      ],
      "metadata": {
        "datalore": {
          "node_id": "D1NTbUNfHkZqNtc7rR4QdW",
          "type": "CODE",
          "hide_input_from_viewers": true,
          "hide_output_from_viewers": true
        },
        "colab": {
          "base_uri": "https://localhost:8080/",
          "height": 206
        },
        "id": "qWAVWyglhO1q",
        "outputId": "821eb9d0-fddc-4def-9993-0596c276adee"
      }
    },
    {
      "cell_type": "code",
      "source": [
        "print(df[[\"post\", \"tags\"]].sample(1).T)"
      ],
      "metadata": {
        "colab": {
          "base_uri": "https://localhost:8080/"
        },
        "id": "Tanj7wgnl2na",
        "outputId": "7b124b16-3fe9-4c5e-8b10-bd509bcf9b52"
      },
      "execution_count": 11,
      "outputs": [
        {
          "output_type": "stream",
          "name": "stdout",
          "text": [
            "                                                   2261\n",
            "post  how to handle very large arrays in php   i hav...\n",
            "tags                                                php\n"
          ]
        }
      ]
    },
    {
      "cell_type": "code",
      "source": [
        "df['tags'].value_counts().sort_index().plot(kind='bar')"
      ],
      "metadata": {
        "colab": {
          "base_uri": "https://localhost:8080/",
          "height": 501
        },
        "id": "r9xBl3DSl_d3",
        "outputId": "cccc3919-0ed3-4993-b127-adc7d80d6afe"
      },
      "execution_count": 12,
      "outputs": [
        {
          "output_type": "execute_result",
          "data": {
            "text/plain": [
              "<Axes: xlabel='tags'>"
            ]
          },
          "metadata": {},
          "execution_count": 12
        },
        {
          "output_type": "display_data",
          "data": {
            "text/plain": [
              "<Figure size 640x480 with 1 Axes>"
            ],
            "image/png": "[encoded data removed]"
          },
          "metadata": {}
        }
      ]
    },
    {
      "cell_type": "markdown",
      "source": [
        "##### The data (tags col) is perfectly balanced. No need of undersampling or oversampling required moving forward. Total length of datatset is 6000 rows with 2000 rows for each unique categories (c++, php and python)."
      ],
      "metadata": {
        "id": "0O3FzFAEYCyh"
      }
    },
    {
      "cell_type": "markdown",
      "source": [
        "## Step 2: Process Data\n",
        "\n",
        "  - Do preprocessing on your text to prepare it for the final machine learning model."
      ],
      "metadata": {
        "datalore": {
          "node_id": "7GgDKrodzRAt9OGGxGyHlo",
          "type": "MD",
          "hide_input_from_viewers": true,
          "hide_output_from_viewers": true
        },
        "id": "Ejz7ZnmohO1r"
      }
    },
    {
      "cell_type": "code",
      "source": [
        "#clean data\n",
        "df = df.dropna() # no missing values in the datatset\n",
        "len(df)"
      ],
      "metadata": {
        "colab": {
          "base_uri": "https://localhost:8080/"
        },
        "id": "nmF1tq64nBKH",
        "outputId": "eb46cbf4-f54f-4c02-8b8b-619ca77b78c6"
      },
      "execution_count": 13,
      "outputs": [
        {
          "output_type": "execute_result",
          "data": {
            "text/plain": [
              "6000"
            ]
          },
          "metadata": {},
          "execution_count": 13
        }
      ]
    },
    {
      "cell_type": "code",
      "source": [
        "def clean_up(text):\n",
        "    # convert html escapes like &amp; to characters.\n",
        "    text = html.unescape(text)\n",
        "    # tags like <tab>\n",
        "    text = re.sub(r'<[^<>]*>', ' ', text)\n",
        "    # markdown URLs like [Some text](https://....)\n",
        "    text = re.sub(r'\\[([^\\[\\]]*)\\]\\([^\\(\\)]*\\)', r'\\1', text)\n",
        "    # text or code in brackets like [0]\n",
        "    text = re.sub(r'\\[[^\\[\\]]*\\]', ' ', text)\n",
        "    # standalone sequences of specials, matches &# but not #cool\n",
        "    text = re.sub(r'(?:^|\\s)[&#<>{}\\[\\]+|\\\\:-]{1,}(?:\\s|$)', ' ', text)\n",
        "    # standalone sequences of hyphens like --- or ==\n",
        "    text = re.sub(r'(?:^|\\s)[\\-=\\+]{2,}(?:\\s|$)', ' ', text)\n",
        "    # sequences of white spaces\n",
        "    text = re.sub(r'\\s+', ' ', text)\n",
        "    # lower case and stop word removal - optional but generally useful for classfication\n",
        "    tokens = word_tokenize(text)\n",
        "    stops = set(stopwords.words('english'))\n",
        "    tokens = [token.lower() for token in tokens if token.isalpha()\n",
        "          and token not in stops]\n",
        "    text = ' '.join(tokens)\n",
        "    return text.strip()\n",
        "\n",
        "df['post'] = df['post'].apply(clean_up)\n",
        "df = df[df['post'].str.len() > 50]\n",
        "df.sample(2)"
      ],
      "metadata": {
        "colab": {
          "base_uri": "https://localhost:8080/",
          "height": 112
        },
        "id": "XQvEpCRonPMF",
        "outputId": "2c2f8674-2be9-44bf-f537-15f9f995871f"
      },
      "execution_count": 16,
      "outputs": [
        {
          "output_type": "execute_result",
          "data": {
            "text/plain": [
              "                                                   post tags\n",
              "3263  uksort single digit integers treated larger do...  php\n",
              "2552  call member function new php going stupid mist...  php"
            ],
            "text/html": [
              "\n",
              "  <div id=\"df-053dabf8-e800-46ad-b292-4e89603aa3f3\" class=\"colab-df-container\">\n",
              "    <div>\n",
              "<style scoped>\n",
              "    .dataframe tbody tr th:only-of-type {\n",
              "        vertical-align: middle;\n",
              "    }\n",
              "\n",
              "    .dataframe tbody tr th {\n",
              "        vertical-align: top;\n",
              "    }\n",
              "\n",
              "    .dataframe thead th {\n",
              "        text-align: right;\n",
              "    }\n",
              "</style>\n",
              "<table border=\"1\" class=\"dataframe\">\n",
              "  <thead>\n",
              "    <tr style=\"text-align: right;\">\n",
              "      <th></th>\n",
              "      <th>post</th>\n",
              "      <th>tags</th>\n",
              "    </tr>\n",
              "  </thead>\n",
              "  <tbody>\n",
              "    <tr>\n",
              "      <th>3263</th>\n",
              "      <td>uksort single digit integers treated larger do...</td>\n",
              "      <td>php</td>\n",
              "    </tr>\n",
              "    <tr>\n",
              "      <th>2552</th>\n",
              "      <td>call member function new php going stupid mist...</td>\n",
              "      <td>php</td>\n",
              "    </tr>\n",
              "  </tbody>\n",
              "</table>\n",
              "</div>\n",
              "    <div class=\"colab-df-buttons\">\n",
              "\n",
              "  <div class=\"colab-df-container\">\n",
              "    <button class=\"colab-df-convert\" onclick=\"convertToInteractive('df-053dabf8-e800-46ad-b292-4e89603aa3f3')\"\n",
              "            title=\"Convert this dataframe to an interactive table.\"\n",
              "            style=\"display:none;\">\n",
              "\n",
              "  <svg xmlns=\"http://www.w3.org/2000/svg\" height=\"24px\" viewBox=\"0 -960 960 960\">\n",
              "    <path d=\"M120-120v-720h720v720H120Zm60-500h600v-160H180v160Zm220 220h160v-160H400v160Zm0 220h160v-160H400v160ZM180-400h160v-160H180v160Zm440 0h160v-160H620v160ZM180-180h160v-160H180v160Zm440 0h160v-160H620v160Z\"/>\n",
              "  </svg>\n",
              "    </button>\n",
              "\n",
              "  <style>\n",
              "    .colab-df-container {\n",
              "      display:flex;\n",
              "      gap: 12px;\n",
              "    }\n",
              "\n",
              "    .colab-df-convert {\n",
              "      background-color: #E8F0FE;\n",
              "      border: none;\n",
              "      border-radius: 50%;\n",
              "      cursor: pointer;\n",
              "      display: none;\n",
              "      fill: #1967D2;\n",
              "      height: 32px;\n",
              "      padding: 0 0 0 0;\n",
              "      width: 32px;\n",
              "    }\n",
              "\n",
              "    .colab-df-convert:hover {\n",
              "      background-color: #E2EBFA;\n",
              "      box-shadow: 0px 1px 2px rgba(60, 64, 67, 0.3), 0px 1px 3px 1px rgba(60, 64, 67, 0.15);\n",
              "      fill: #174EA6;\n",
              "    }\n",
              "\n",
              "    .colab-df-buttons div {\n",
              "      margin-bottom: 4px;\n",
              "    }\n",
              "\n",
              "    [theme=dark] .colab-df-convert {\n",
              "      background-color: #3B4455;\n",
              "      fill: #D2E3FC;\n",
              "    }\n",
              "\n",
              "    [theme=dark] .colab-df-convert:hover {\n",
              "      background-color: #434B5C;\n",
              "      box-shadow: 0px 1px 3px 1px rgba(0, 0, 0, 0.15);\n",
              "      filter: drop-shadow(0px 1px 2px rgba(0, 0, 0, 0.3));\n",
              "      fill: #FFFFFF;\n",
              "    }\n",
              "  </style>\n",
              "\n",
              "    <script>\n",
              "      const buttonEl =\n",
              "        document.querySelector('#df-053dabf8-e800-46ad-b292-4e89603aa3f3 button.colab-df-convert');\n",
              "      buttonEl.style.display =\n",
              "        google.colab.kernel.accessAllowed ? 'block' : 'none';\n",
              "\n",
              "      async function convertToInteractive(key) {\n",
              "        const element = document.querySelector('#df-053dabf8-e800-46ad-b292-4e89603aa3f3');\n",
              "        const dataTable =\n",
              "          await google.colab.kernel.invokeFunction('convertToInteractive',\n",
              "                                                    [key], {});\n",
              "        if (!dataTable) return;\n",
              "\n",
              "        const docLinkHtml = 'Like what you see? Visit the ' +\n",
              "          '<a target=\"_blank\" href=https://colab.research.google.com/notebooks/data_table.ipynb>data table notebook</a>'\n",
              "          + ' to learn more about interactive tables.';\n",
              "        element.innerHTML = '';\n",
              "        dataTable['output_type'] = 'display_data';\n",
              "        await google.colab.output.renderOutput(dataTable, element);\n",
              "        const docLink = document.createElement('div');\n",
              "        docLink.innerHTML = docLinkHtml;\n",
              "        element.appendChild(docLink);\n",
              "      }\n",
              "    </script>\n",
              "  </div>\n",
              "\n",
              "\n",
              "<div id=\"df-50b0c3e2-9365-44ff-b958-136cfea0b348\">\n",
              "  <button class=\"colab-df-quickchart\" onclick=\"quickchart('df-50b0c3e2-9365-44ff-b958-136cfea0b348')\"\n",
              "            title=\"Suggest charts\"\n",
              "            style=\"display:none;\">\n",
              "\n",
              "<svg xmlns=\"http://www.w3.org/2000/svg\" height=\"24px\"viewBox=\"0 0 24 24\"\n",
              "     width=\"24px\">\n",
              "    <g>\n",
              "        <path d=\"M19 3H5c-1.1 0-2 .9-2 2v14c0 1.1.9 2 2 2h14c1.1 0 2-.9 2-2V5c0-1.1-.9-2-2-2zM9 17H7v-7h2v7zm4 0h-2V7h2v10zm4 0h-2v-4h2v4z\"/>\n",
              "    </g>\n",
              "</svg>\n",
              "  </button>\n",
              "\n",
              "<style>\n",
              "  .colab-df-quickchart {\n",
              "      --bg-color: #E8F0FE;\n",
              "      --fill-color: #1967D2;\n",
              "      --hover-bg-color: #E2EBFA;\n",
              "      --hover-fill-color: #174EA6;\n",
              "      --disabled-fill-color: #AAA;\n",
              "      --disabled-bg-color: #DDD;\n",
              "  }\n",
              "\n",
              "  [theme=dark] .colab-df-quickchart {\n",
              "      --bg-color: #3B4455;\n",
              "      --fill-color: #D2E3FC;\n",
              "      --hover-bg-color: #434B5C;\n",
              "      --hover-fill-color: #FFFFFF;\n",
              "      --disabled-bg-color: #3B4455;\n",
              "      --disabled-fill-color: #666;\n",
              "  }\n",
              "\n",
              "  .colab-df-quickchart {\n",
              "    background-color: var(--bg-color);\n",
              "    border: none;\n",
              "    border-radius: 50%;\n",
              "    cursor: pointer;\n",
              "    display: none;\n",
              "    fill: var(--fill-color);\n",
              "    height: 32px;\n",
              "    padding: 0;\n",
              "    width: 32px;\n",
              "  }\n",
              "\n",
              "  .colab-df-quickchart:hover {\n",
              "    background-color: var(--hover-bg-color);\n",
              "    box-shadow: 0 1px 2px rgba(60, 64, 67, 0.3), 0 1px 3px 1px rgba(60, 64, 67, 0.15);\n",
              "    fill: var(--button-hover-fill-color);\n",
              "  }\n",
              "\n",
              "  .colab-df-quickchart-complete:disabled,\n",
              "  .colab-df-quickchart-complete:disabled:hover {\n",
              "    background-color: var(--disabled-bg-color);\n",
              "    fill: var(--disabled-fill-color);\n",
              "    box-shadow: none;\n",
              "  }\n",
              "\n",
              "  .colab-df-spinner {\n",
              "    border: 2px solid var(--fill-color);\n",
              "    border-color: transparent;\n",
              "    border-bottom-color: var(--fill-color);\n",
              "    animation:\n",
              "      spin 1s steps(1) infinite;\n",
              "  }\n",
              "\n",
              "  @keyframes spin {\n",
              "    0% {\n",
              "      border-color: transparent;\n",
              "      border-bottom-color: var(--fill-color);\n",
              "      border-left-color: var(--fill-color);\n",
              "    }\n",
              "    20% {\n",
              "      border-color: transparent;\n",
              "      border-left-color: var(--fill-color);\n",
              "      border-top-color: var(--fill-color);\n",
              "    }\n",
              "    30% {\n",
              "      border-color: transparent;\n",
              "      border-left-color: var(--fill-color);\n",
              "      border-top-color: var(--fill-color);\n",
              "      border-right-color: var(--fill-color);\n",
              "    }\n",
              "    40% {\n",
              "      border-color: transparent;\n",
              "      border-right-color: var(--fill-color);\n",
              "      border-top-color: var(--fill-color);\n",
              "    }\n",
              "    60% {\n",
              "      border-color: transparent;\n",
              "      border-right-color: var(--fill-color);\n",
              "    }\n",
              "    80% {\n",
              "      border-color: transparent;\n",
              "      border-right-color: var(--fill-color);\n",
              "      border-bottom-color: var(--fill-color);\n",
              "    }\n",
              "    90% {\n",
              "      border-color: transparent;\n",
              "      border-bottom-color: var(--fill-color);\n",
              "    }\n",
              "  }\n",
              "</style>\n",
              "\n",
              "  <script>\n",
              "    async function quickchart(key) {\n",
              "      const quickchartButtonEl =\n",
              "        document.querySelector('#' + key + ' button');\n",
              "      quickchartButtonEl.disabled = true;  // To prevent multiple clicks.\n",
              "      quickchartButtonEl.classList.add('colab-df-spinner');\n",
              "      try {\n",
              "        const charts = await google.colab.kernel.invokeFunction(\n",
              "            'suggestCharts', [key], {});\n",
              "      } catch (error) {\n",
              "        console.error('Error during call to suggestCharts:', error);\n",
              "      }\n",
              "      quickchartButtonEl.classList.remove('colab-df-spinner');\n",
              "      quickchartButtonEl.classList.add('colab-df-quickchart-complete');\n",
              "    }\n",
              "    (() => {\n",
              "      let quickchartButtonEl =\n",
              "        document.querySelector('#df-50b0c3e2-9365-44ff-b958-136cfea0b348 button');\n",
              "      quickchartButtonEl.style.display =\n",
              "        google.colab.kernel.accessAllowed ? 'block' : 'none';\n",
              "    })();\n",
              "  </script>\n",
              "</div>\n",
              "\n",
              "    </div>\n",
              "  </div>\n"
            ],
            "application/vnd.google.colaboratory.intrinsic+json": {
              "type": "dataframe",
              "summary": "{\n  \"name\": \"df\",\n  \"rows\": 2,\n  \"fields\": [\n    {\n      \"column\": \"post\",\n      \"properties\": {\n        \"dtype\": \"string\",\n        \"num_unique_values\": 2,\n        \"samples\": [\n          \"call member function new php going stupid mistake get error basic user clicks link opens view page calls class requires category php initialise template template new chtemplate create cid object new chwipprogress isset content details component reference bundle getproducts reference show details foreach bundle x content productnumber x description x settag content content echo display object class public function getproducts category sql select distinct stock productnumber stock description stock tbom tbom component category stock productnumber tbom product conn result sql conn result number rows row result return row return return return\",\n          \"uksort single digit integers treated larger double digit integers first integer smaller question suggests using uksort get desired ordering multidimensional array everything working great exception one small flaw trouble conveying exactly issue almost natsort applied somewhere figure uksort callback uksort loanprograms function b yeara abs int yearb abs int b return yearb yeara simply extracting numbers string triple checked numbers look like b b b b however issue treated larger treated larger etc figure issue could thoughts greatly appreciated edit snapshot multi dimensional array array array array conventional fixed array array conventional fixed array array conventional arm\"\n        ],\n        \"semantic_type\": \"\",\n        \"description\": \"\"\n      }\n    },\n    {\n      \"column\": \"tags\",\n      \"properties\": {\n        \"dtype\": \"string\",\n        \"num_unique_values\": 1,\n        \"samples\": [\n          \"php\"\n        ],\n        \"semantic_type\": \"\",\n        \"description\": \"\"\n      }\n    }\n  ]\n}"
            }
          },
          "metadata": {},
          "execution_count": 16
        }
      ]
    },
    {
      "cell_type": "code",
      "source": [
        "len(df) #12 rows removed since the length of its post was less than 50"
      ],
      "metadata": {
        "colab": {
          "base_uri": "https://localhost:8080/"
        },
        "id": "HE9jCRFr8yct",
        "outputId": "4f4d950b-fd77-4511-f2df-34058034fea4"
      },
      "execution_count": 17,
      "outputs": [
        {
          "output_type": "execute_result",
          "data": {
            "text/plain": [
              "5988"
            ]
          },
          "metadata": {},
          "execution_count": 17
        }
      ]
    },
    {
      "cell_type": "code",
      "source": [
        "#split the data (80-20 ratio)\n",
        "from sklearn.model_selection import train_test_split\n",
        "X_train, X_test, Y_train, Y_test = train_test_split(df['post'], # X values\n",
        "                                                    df['tags'], # Y values\n",
        "                                                    test_size = 0.2, # test size\n",
        "                                                    random_state = 42, # random shuffle\n",
        "                                                    stratify = df['tags'])\n",
        "\n",
        "print('Size of Training Data ', X_train.shape[0])\n",
        "print('Size of Test Data ', X_test.shape[0])"
      ],
      "metadata": {
        "colab": {
          "base_uri": "https://localhost:8080/"
        },
        "id": "5OZfvxI9n0Y9",
        "outputId": "15cf914a-ad72-4270-d574-2879a3e609c4"
      },
      "execution_count": 18,
      "outputs": [
        {
          "output_type": "stream",
          "name": "stdout",
          "text": [
            "Size of Training Data  4790\n",
            "Size of Test Data  1198\n"
          ]
        }
      ]
    },
    {
      "cell_type": "markdown",
      "source": [
        "## Step 3: Feature Extraction\n",
        "\n",
        "- Use three different feature extraction methods."
      ],
      "metadata": {
        "datalore": {
          "node_id": "3IadStKWVDYBGTLJ7V9z2G",
          "type": "MD",
          "hide_input_from_viewers": true,
          "hide_output_from_viewers": true
        },
        "id": "_nBDMWWahO1s"
      }
    },
    {
      "cell_type": "markdown",
      "source": [
        "## **1. TF-IDF**"
      ],
      "metadata": {
        "id": "xUyQJfVy9nyz"
      }
    },
    {
      "cell_type": "code",
      "source": [
        "#using TF-IDF as our feature extraction to compare classifiers\n",
        "from sklearn.feature_extraction.text import TfidfVectorizer\n",
        "\n",
        "tfidf = TfidfVectorizer()\n",
        "tv_train = tfidf.fit_transform(X_train)\n",
        "tv_test = tfidf.transform(X_test)\n",
        "\n",
        "# make sure the second dimension matches (18651 matches)\n",
        "tv_train.shape, tv_test.shape"
      ],
      "execution_count": 19,
      "outputs": [
        {
          "output_type": "execute_result",
          "data": {
            "text/plain": [
              "((4790, 18651), (1198, 18651))"
            ]
          },
          "metadata": {},
          "execution_count": 19
        }
      ],
      "metadata": {
        "datalore": {
          "node_id": "7MEeykiziOL5EIvQ3chZ9A",
          "type": "CODE",
          "hide_input_from_viewers": true,
          "hide_output_from_viewers": true
        },
        "colab": {
          "base_uri": "https://localhost:8080/"
        },
        "id": "INbIPFkyhO1s",
        "outputId": "1c0de2e0-1064-4677-f28d-2ec8e394083f"
      }
    },
    {
      "cell_type": "markdown",
      "source": [
        "## **2. Word Embedding**"
      ],
      "metadata": {
        "id": "hRS6Lb9t9t1u"
      }
    },
    {
      "cell_type": "code",
      "source": [
        "#Word Embedding\n",
        "import numpy as np\n",
        "def document_vectorizer(corpus, model, num_features):\n",
        "    vocabulary = set(model.wv.index_to_key)\n",
        "    def average_word_vectors(words, model, vocabulary, num_features):\n",
        "        feature_vector = np.zeros((num_features,), dtype=\"float64\")\n",
        "        nwords = 0.\n",
        "        for word in words:\n",
        "            if word in vocabulary:\n",
        "                nwords = nwords + 1.\n",
        "                feature_vector = np.add(feature_vector, model.wv[word])\n",
        "        if nwords:\n",
        "            feature_vector = np.divide(feature_vector, nwords)\n",
        "        return feature_vector\n",
        "    features = [average_word_vectors(tokenized_sentence, model, vocabulary, num_features)\n",
        "                    for tokenized_sentence in corpus]\n",
        "    return np.array(features)"
      ],
      "metadata": {
        "id": "-bx3b-wS9Jvh"
      },
      "execution_count": 20,
      "outputs": []
    },
    {
      "cell_type": "code",
      "source": [
        "from gensim.models import Word2Vec\n",
        "# train the model on the data\n",
        "our_model = Word2Vec(X_train,\n",
        "    vector_size = 500, #dimensions\n",
        "    window = 5, #window size\n",
        "    sg = 0, #cbow\n",
        "    min_count = 1,\n",
        "    workers = 4)\n",
        "\n",
        "# generate averaged word vector features from word2vec model\n",
        "avg_wv_train_features = document_vectorizer(corpus = X_train,\n",
        "    model = our_model,\n",
        "    num_features = 500)\n",
        "\n",
        "# generate averaged word vector features from word2vec model\n",
        "avg_wv_test_features = document_vectorizer(corpus = X_test,\n",
        "    model = our_model,\n",
        "    num_features = 500)\n",
        "\n",
        "avg_wv_train_features.shape"
      ],
      "metadata": {
        "colab": {
          "base_uri": "https://localhost:8080/"
        },
        "id": "xO3IqRTm9V5e",
        "outputId": "7636abcf-afed-44bc-99e9-666b27571f8b"
      },
      "execution_count": 21,
      "outputs": [
        {
          "output_type": "stream",
          "name": "stderr",
          "text": [
            "WARNING:gensim.models.word2vec:Each 'sentences' item should be a list of words (usually unicode strings). First item here is instead plain <class 'str'>.\n"
          ]
        },
        {
          "output_type": "execute_result",
          "data": {
            "text/plain": [
              "(4790, 500)"
            ]
          },
          "metadata": {},
          "execution_count": 21
        }
      ]
    },
    {
      "cell_type": "markdown",
      "source": [
        "##**3. Bag of Words**"
      ],
      "metadata": {
        "id": "QvF2niF191LE"
      }
    },
    {
      "cell_type": "code",
      "source": [
        "# Bag of Words\n",
        "count_vectorizer = CountVectorizer(max_features=1000)  # You can adjust the max_features as needed\n",
        "cv_train = count_vectorizer.fit_transform(X_train)\n",
        "cv_test = count_vectorizer.transform(X_test)\n",
        "cv_train.shape, cv_test.shape"
      ],
      "execution_count": 22,
      "outputs": [
        {
          "output_type": "execute_result",
          "data": {
            "text/plain": [
              "((4790, 1000), (1198, 1000))"
            ]
          },
          "metadata": {},
          "execution_count": 22
        }
      ],
      "metadata": {
        "datalore": {
          "node_id": "1QysIAMbvHMXLKgOXlstgV",
          "type": "CODE",
          "hide_input_from_viewers": true,
          "hide_output_from_viewers": true
        },
        "colab": {
          "base_uri": "https://localhost:8080/"
        },
        "id": "FPZT_ldahO1s",
        "outputId": "177bef29-7e30-4593-accf-e8438a21db53"
      }
    },
    {
      "cell_type": "markdown",
      "source": [
        "## Step 4: Classification\n",
        "\n",
        "- Use two classification algorithms with each feature extraction methods (e.g. build six models; two for each feature extraction method above)."
      ],
      "metadata": {
        "datalore": {
          "node_id": "OJfCEDQ8UhmoxwPeGpSAqs",
          "type": "MD",
          "hide_input_from_viewers": true,
          "hide_output_from_viewers": true
        },
        "id": "s6XA1TCNhO1t"
      }
    },
    {
      "cell_type": "markdown",
      "source": [
        "# **1. Classification algorithms (using Logistic Regression and SVM) with TF-IDF feature extraction**"
      ],
      "metadata": {
        "id": "hmusWs4btXoN"
      }
    },
    {
      "cell_type": "code",
      "source": [
        "#Logistic Regression\n",
        "from sklearn.linear_model import LogisticRegression\n",
        "logreg = LogisticRegression(max_iter = 10000)\n",
        "logreg.fit(tv_train, Y_train)\n",
        "y_log = logreg.predict(tv_test)"
      ],
      "execution_count": 23,
      "outputs": [],
      "metadata": {
        "datalore": {
          "node_id": "e37ITTQAmNpCsRa5lmFo19",
          "type": "CODE",
          "hide_input_from_viewers": true,
          "hide_output_from_viewers": true
        },
        "id": "k6F09bA1hO1t"
      }
    },
    {
      "cell_type": "code",
      "source": [
        "#SVM\n",
        "from sklearn.svm import LinearSVC\n",
        "svm = LinearSVC()\n",
        "svm.fit(tv_train, Y_train)\n",
        "y_svm = svm.predict(tv_test)"
      ],
      "execution_count": 24,
      "outputs": [
        {
          "output_type": "stream",
          "name": "stderr",
          "text": [
            "/usr/local/lib/python3.10/dist-packages/sklearn/svm/_classes.py:32: FutureWarning: The default value of `dual` will change from `True` to `'auto'` in 1.5. Set the value of `dual` explicitly to suppress the warning.\n",
            "  warnings.warn(\n"
          ]
        }
      ],
      "metadata": {
        "datalore": {
          "node_id": "UxF5rZT9LWbLHO7eKZrWyZ",
          "type": "CODE",
          "hide_input_from_viewers": true,
          "hide_output_from_viewers": true
        },
        "id": "daKu7YLuhO1t",
        "colab": {
          "base_uri": "https://localhost:8080/"
        },
        "outputId": "3d600f7d-6647-41e4-daae-6b3119cda2d5"
      }
    },
    {
      "cell_type": "code",
      "source": [
        "#Confusion Matrix - Logistic Regression (TF-IDF)\n",
        "from sklearn.metrics import ConfusionMatrixDisplay, confusion_matrix\n",
        "from matplotlib import pyplot as plt\n",
        "cm = confusion_matrix(Y_test, y_log, labels = logreg.classes_)\n",
        "disp = ConfusionMatrixDisplay(confusion_matrix = cm,\n",
        "        display_labels = logreg.classes_)\n",
        "disp.plot()\n",
        "plt.title('Confusion Matrix - Logistic Regression (TF-IDF)')\n",
        "plt.show()"
      ],
      "execution_count": 25,
      "outputs": [
        {
          "output_type": "display_data",
          "data": {
            "text/plain": [
              "<Figure size 640x480 with 2 Axes>"
            ],
            "image/png": "[encoded data removed]"
          },
          "metadata": {}
        }
      ],
      "metadata": {
        "datalore": {
          "node_id": "99RSsK1EUzdeSuVOubo2w1",
          "type": "CODE",
          "hide_input_from_viewers": true,
          "hide_output_from_viewers": true
        },
        "colab": {
          "base_uri": "https://localhost:8080/",
          "height": 472
        },
        "id": "fwlzNJidhO1t",
        "outputId": "b4fb13d2-addf-4f86-f7e6-af50af2a6740"
      }
    },
    {
      "cell_type": "code",
      "source": [
        "#Confusion Matrix - SVM (TF-IDF)\n",
        "cm_svm = confusion_matrix(Y_test, y_svm, labels=svm.classes_)\n",
        "disp_svm = ConfusionMatrixDisplay(confusion_matrix=cm_svm, display_labels=svm.classes_)\n",
        "disp_svm.plot()\n",
        "plt.title('Confusion Matrix - SVM (TF-IDF)')\n",
        "plt.show()"
      ],
      "metadata": {
        "colab": {
          "base_uri": "https://localhost:8080/",
          "height": 472
        },
        "id": "4pl47My4Gd1R",
        "outputId": "fc26767b-8f05-4df5-a18e-8f2675affb5d"
      },
      "execution_count": 26,
      "outputs": [
        {
          "output_type": "display_data",
          "data": {
            "text/plain": [
              "<Figure size 640x480 with 2 Axes>"
            ],
            "image/png": "[encoded data removed]"
          },
          "metadata": {}
        }
      ]
    },
    {
      "cell_type": "code",
      "source": [
        "#Print Classification Report - Logistic Regression\n",
        "from sklearn.metrics import classification_report\n",
        "print(\"Classification Report - Logistic Regression (TF-IDF)\")\n",
        "print(classification_report(Y_test, y_log))"
      ],
      "execution_count": 27,
      "outputs": [
        {
          "output_type": "stream",
          "name": "stdout",
          "text": [
            "Classification Report - Logistic Regression (TF-IDF)\n",
            "              precision    recall  f1-score   support\n",
            "\n",
            "         c++       0.96      0.95      0.96       399\n",
            "         php       0.95      0.96      0.96       399\n",
            "      python       0.96      0.95      0.96       400\n",
            "\n",
            "    accuracy                           0.96      1198\n",
            "   macro avg       0.96      0.96      0.96      1198\n",
            "weighted avg       0.96      0.96      0.96      1198\n",
            "\n"
          ]
        }
      ],
      "metadata": {
        "datalore": {
          "node_id": "9m5TWZTsudoYmbXtHrro5h",
          "type": "CODE",
          "hide_input_from_viewers": true,
          "hide_output_from_viewers": true
        },
        "colab": {
          "base_uri": "https://localhost:8080/"
        },
        "id": "YgWDFcj2hO1t",
        "outputId": "44c7b9c0-8ab3-4c76-8061-26f6be4e77cd"
      }
    },
    {
      "cell_type": "code",
      "source": [
        "#Print Classification Report - SVM\n",
        "print(\"Classification Report - SVM (TF-IDF)\")\n",
        "print(classification_report(Y_test, y_svm))"
      ],
      "metadata": {
        "colab": {
          "base_uri": "https://localhost:8080/"
        },
        "id": "85fTpIrBpr--",
        "outputId": "1cbb1963-3d49-40d6-cd0b-4b3dab7a84ab"
      },
      "execution_count": 28,
      "outputs": [
        {
          "output_type": "stream",
          "name": "stdout",
          "text": [
            "Classification Report - SVM (TF-IDF)\n",
            "              precision    recall  f1-score   support\n",
            "\n",
            "         c++       0.97      0.95      0.96       399\n",
            "         php       0.94      0.97      0.95       399\n",
            "      python       0.96      0.95      0.96       400\n",
            "\n",
            "    accuracy                           0.96      1198\n",
            "   macro avg       0.96      0.96      0.96      1198\n",
            "weighted avg       0.96      0.96      0.96      1198\n",
            "\n"
          ]
        }
      ]
    },
    {
      "cell_type": "markdown",
      "source": [
        "# **2. Classification algorithms (using Logistic Regression and SVM) with Word Embedding feature extraction**"
      ],
      "metadata": {
        "id": "PdGOHq5xtfK9"
      }
    },
    {
      "cell_type": "code",
      "source": [
        "# Logistic Regression\n",
        "logreg = LogisticRegression(max_iter=10000)\n",
        "logreg.fit(avg_wv_train_features, Y_train)\n",
        "y_log_wv = logreg.predict(avg_wv_test_features)"
      ],
      "metadata": {
        "id": "nL0ZiYDxBOtX"
      },
      "execution_count": 29,
      "outputs": []
    },
    {
      "cell_type": "code",
      "source": [
        "#SVM\n",
        "from sklearn.svm import LinearSVC\n",
        "svm = LinearSVC()\n",
        "svm.fit(avg_wv_train_features, Y_train)\n",
        "y_svm = svm.predict(avg_wv_test_features)"
      ],
      "metadata": {
        "colab": {
          "base_uri": "https://localhost:8080/"
        },
        "id": "bDZSpGQCBP2K",
        "outputId": "4d10ebbe-1a14-4afa-81d3-c1ad06acd7c2"
      },
      "execution_count": 30,
      "outputs": [
        {
          "output_type": "stream",
          "name": "stderr",
          "text": [
            "/usr/local/lib/python3.10/dist-packages/sklearn/svm/_classes.py:32: FutureWarning: The default value of `dual` will change from `True` to `'auto'` in 1.5. Set the value of `dual` explicitly to suppress the warning.\n",
            "  warnings.warn(\n"
          ]
        }
      ]
    },
    {
      "cell_type": "code",
      "source": [
        "#Confusion Matrix - Logistic Regression (Word Embedding)\n",
        "cm_log_wv = confusion_matrix(Y_test, y_log_wv, labels=logreg.classes_)\n",
        "disp_log_wv = ConfusionMatrixDisplay(confusion_matrix=cm_log_wv, display_labels=logreg.classes_)\n",
        "disp_log_wv.plot()\n",
        "plt.title('Confusion Matrix - Logistic Regression (Word Embedding)')\n",
        "plt.show()"
      ],
      "metadata": {
        "colab": {
          "base_uri": "https://localhost:8080/",
          "height": 472
        },
        "id": "_6gy7sfpBP5R",
        "outputId": "187f8a3c-db1b-4ccd-84ff-e8eb3b28ccaa"
      },
      "execution_count": 31,
      "outputs": [
        {
          "output_type": "display_data",
          "data": {
            "text/plain": [
              "<Figure size 640x480 with 2 Axes>"
            ],
            "image/png": "[encoded data removed]"
          },
          "metadata": {}
        }
      ]
    },
    {
      "cell_type": "code",
      "source": [
        "#Confusion Matrix - SVM (Word Embedding)\n",
        "cm_svm_wv = confusion_matrix(Y_test, y_svm, labels=svm.classes_)\n",
        "disp_svm_wv = ConfusionMatrixDisplay(confusion_matrix=cm_svm_wv, display_labels=svm.classes_)\n",
        "disp_svm_wv.plot()\n",
        "plt.title('Confusion Matrix - SVM (Word Embedding)')\n",
        "plt.show()"
      ],
      "metadata": {
        "colab": {
          "base_uri": "https://localhost:8080/",
          "height": 472
        },
        "id": "Z0PRpA3vE1vu",
        "outputId": "ee3d913c-85c9-4a2a-d8e4-8af30551173a"
      },
      "execution_count": 32,
      "outputs": [
        {
          "output_type": "display_data",
          "data": {
            "text/plain": [
              "<Figure size 640x480 with 2 Axes>"
            ],
            "image/png": "[encoded data removed]"
          },
          "metadata": {}
        }
      ]
    },
    {
      "cell_type": "code",
      "source": [
        "print(\"Classification Report - Logistic Regression (Word Embedding)\")\n",
        "print(classification_report(Y_test, y_log_wv))"
      ],
      "metadata": {
        "colab": {
          "base_uri": "https://localhost:8080/"
        },
        "id": "jUA7g6BFBP-P",
        "outputId": "5f5454e3-7f8a-462f-eb2c-1aee32229248"
      },
      "execution_count": 33,
      "outputs": [
        {
          "output_type": "stream",
          "name": "stdout",
          "text": [
            "Classification Report - Logistic Regression (Word Embedding)\n",
            "              precision    recall  f1-score   support\n",
            "\n",
            "         c++       0.55      0.61      0.58       399\n",
            "         php       0.58      0.56      0.57       399\n",
            "      python       0.59      0.56      0.57       400\n",
            "\n",
            "    accuracy                           0.57      1198\n",
            "   macro avg       0.57      0.57      0.57      1198\n",
            "weighted avg       0.57      0.57      0.57      1198\n",
            "\n"
          ]
        }
      ]
    },
    {
      "cell_type": "code",
      "source": [
        "print(\"Classification Report - SVM (Word Embedding)\")\n",
        "print(classification_report(Y_test, y_svm))"
      ],
      "metadata": {
        "colab": {
          "base_uri": "https://localhost:8080/"
        },
        "id": "aNr9f-JYBQCj",
        "outputId": "ca01ab95-4ebf-4bf4-a533-36fe7ce7690f"
      },
      "execution_count": 34,
      "outputs": [
        {
          "output_type": "stream",
          "name": "stdout",
          "text": [
            "Classification Report - SVM (Word Embedding)\n",
            "              precision    recall  f1-score   support\n",
            "\n",
            "         c++       0.55      0.60      0.57       399\n",
            "         php       0.59      0.58      0.59       399\n",
            "      python       0.58      0.53      0.56       400\n",
            "\n",
            "    accuracy                           0.57      1198\n",
            "   macro avg       0.57      0.57      0.57      1198\n",
            "weighted avg       0.57      0.57      0.57      1198\n",
            "\n"
          ]
        }
      ]
    },
    {
      "cell_type": "markdown",
      "source": [
        "# **3. Classification algorithms (using Logistic Regression and SVM) with Bag of Words feature extraction**"
      ],
      "metadata": {
        "id": "3voGv8lrFRiF"
      }
    },
    {
      "cell_type": "code",
      "source": [
        "# Logistic Regression\n",
        "logreg = LogisticRegression(max_iter=10000)\n",
        "logreg.fit(cv_train, Y_train)\n",
        "y_log_cv = logreg.predict(cv_test)"
      ],
      "metadata": {
        "id": "nu5OS3tKBQE7"
      },
      "execution_count": 35,
      "outputs": []
    },
    {
      "cell_type": "code",
      "source": [
        "# SVM\n",
        "svm = LinearSVC()\n",
        "svm.fit(cv_train, Y_train)\n",
        "y_svm = svm.predict(cv_test)"
      ],
      "metadata": {
        "colab": {
          "base_uri": "https://localhost:8080/"
        },
        "id": "HfHA9oEzBQG8",
        "outputId": "c3956009-4ba0-4ab9-d75e-6d5fa2fcdafd"
      },
      "execution_count": 36,
      "outputs": [
        {
          "output_type": "stream",
          "name": "stderr",
          "text": [
            "/usr/local/lib/python3.10/dist-packages/sklearn/svm/_classes.py:32: FutureWarning: The default value of `dual` will change from `True` to `'auto'` in 1.5. Set the value of `dual` explicitly to suppress the warning.\n",
            "  warnings.warn(\n",
            "/usr/local/lib/python3.10/dist-packages/sklearn/svm/_base.py:1250: ConvergenceWarning: Liblinear failed to converge, increase the number of iterations.\n",
            "  warnings.warn(\n"
          ]
        }
      ]
    },
    {
      "cell_type": "code",
      "source": [
        "#Confusion Matrix - Logistic Regression (Bag of Words)\n",
        "cm_log_cv = confusion_matrix(Y_test, y_log_cv, labels=logreg.classes_)\n",
        "disp_log_cv = ConfusionMatrixDisplay(confusion_matrix=cm_log_cv, display_labels=logreg.classes_)\n",
        "disp_log_cv.plot()\n",
        "plt.title('Confusion Matrix - Logistic Regression (Bag of Words)')\n",
        "plt.show()"
      ],
      "metadata": {
        "colab": {
          "base_uri": "https://localhost:8080/",
          "height": 472
        },
        "id": "z1yYbpYyBQJ9",
        "outputId": "e64ad224-fa89-4aaf-e3b0-c1bdb01511e3"
      },
      "execution_count": 37,
      "outputs": [
        {
          "output_type": "display_data",
          "data": {
            "text/plain": [
              "<Figure size 640x480 with 2 Axes>"
            ],
            "image/png": "[encoded data removed]"
          },
          "metadata": {}
        }
      ]
    },
    {
      "cell_type": "code",
      "source": [
        "#Confusion Matrix - SVM (Bag of Words)\n",
        "cm_svm_cv = confusion_matrix(Y_test, y_svm, labels=svm.classes_)\n",
        "disp_svm_cv = ConfusionMatrixDisplay(confusion_matrix=cm_svm_cv, display_labels=svm.classes_)\n",
        "disp_svm_cv.plot()\n",
        "plt.title('Confusion Matrix - SVM (Bag of Words)')\n",
        "plt.show()"
      ],
      "metadata": {
        "colab": {
          "base_uri": "https://localhost:8080/",
          "height": 472
        },
        "id": "6m4SI_TnBQPj",
        "outputId": "7760f434-ce8a-4d4d-d4a4-fd13ffb6f072"
      },
      "execution_count": 38,
      "outputs": [
        {
          "output_type": "display_data",
          "data": {
            "text/plain": [
              "<Figure size 640x480 with 2 Axes>"
            ],
            "image/png": "[encoded data removed]"
          },
          "metadata": {}
        }
      ]
    },
    {
      "cell_type": "code",
      "source": [
        "print(\"Classification Report - Logistic Regression (Bag of Words)\")\n",
        "print(classification_report(Y_test, y_log_cv))"
      ],
      "metadata": {
        "colab": {
          "base_uri": "https://localhost:8080/"
        },
        "id": "opK601xTFxct",
        "outputId": "892b26df-64c3-4047-b422-0abf63073b4a"
      },
      "execution_count": 39,
      "outputs": [
        {
          "output_type": "stream",
          "name": "stdout",
          "text": [
            "Classification Report - Logistic Regression (Bag of Words)\n",
            "              precision    recall  f1-score   support\n",
            "\n",
            "         c++       0.95      0.94      0.95       399\n",
            "         php       0.93      0.95      0.94       399\n",
            "      python       0.96      0.95      0.96       400\n",
            "\n",
            "    accuracy                           0.95      1198\n",
            "   macro avg       0.95      0.95      0.95      1198\n",
            "weighted avg       0.95      0.95      0.95      1198\n",
            "\n"
          ]
        }
      ]
    },
    {
      "cell_type": "code",
      "source": [
        "print(\"Classification Report - SVM (Bag of Words)\")\n",
        "print(classification_report(Y_test, y_svm))"
      ],
      "metadata": {
        "colab": {
          "base_uri": "https://localhost:8080/"
        },
        "id": "MPyigHxpFxfe",
        "outputId": "f951228e-01c7-4786-e60d-2332e9944b2a"
      },
      "execution_count": 40,
      "outputs": [
        {
          "output_type": "stream",
          "name": "stdout",
          "text": [
            "Classification Report - SVM (Bag of Words)\n",
            "              precision    recall  f1-score   support\n",
            "\n",
            "         c++       0.93      0.91      0.92       399\n",
            "         php       0.92      0.93      0.93       399\n",
            "      python       0.94      0.94      0.94       400\n",
            "\n",
            "    accuracy                           0.93      1198\n",
            "   macro avg       0.93      0.93      0.93      1198\n",
            "weighted avg       0.93      0.93      0.93      1198\n",
            "\n"
          ]
        }
      ]
    },
    {
      "cell_type": "markdown",
      "source": [
        "## Interpretation\n",
        "\n",
        "- Use eli5 OR lime to determine what predicts each category label.\n",
        "- Write a paragraph summarizing the results from your comparisons. What models are best? Are there any general differences/similarities in prediction you see? How well is each category label classified? What might you do to make the model better?\n",
        "  "
      ],
      "metadata": {
        "datalore": {
          "node_id": "9lcACjfBnUtb0PNt7wyCkq",
          "type": "MD",
          "hide_input_from_viewers": true,
          "hide_output_from_viewers": true
        },
        "id": "AOVeW33BhO1t"
      }
    },
    {
      "cell_type": "code",
      "source": [
        "#Prediction Probabilities\n",
        "logreg = LogisticRegression(max_iter = 10000)\n",
        "logreg.fit(tv_train, Y_train) # new model on smaller data\n",
        "y_log = logreg.predict(tv_test)\n",
        "print(classification_report(Y_test, y_log))"
      ],
      "metadata": {
        "colab": {
          "base_uri": "https://localhost:8080/"
        },
        "id": "as38VKzU5nI0",
        "outputId": "03bef0a0-244a-4e08-a294-449e11352e42"
      },
      "execution_count": 41,
      "outputs": [
        {
          "output_type": "stream",
          "name": "stdout",
          "text": [
            "              precision    recall  f1-score   support\n",
            "\n",
            "         c++       0.96      0.95      0.96       399\n",
            "         php       0.95      0.96      0.96       399\n",
            "      python       0.96      0.95      0.96       400\n",
            "\n",
            "    accuracy                           0.96      1198\n",
            "   macro avg       0.96      0.96      0.96      1198\n",
            "weighted avg       0.96      0.96      0.96      1198\n",
            "\n"
          ]
        }
      ]
    },
    {
      "cell_type": "code",
      "source": [
        "probs = pd.DataFrame(logreg.predict_proba(tv_test), columns = [\"c++\", \"php\", \"python\"])\n",
        "probs['answer'] = Y_test.reset_index(drop=True)\n",
        "probs['text'] = X_test.reset_index(drop=True)\n",
        "probs['predicted_cat'] = y_log\n",
        "right_answers = probs[probs.answer == probs.predicted_cat]\n",
        "## show DF\n",
        "print(right_answers)"
      ],
      "metadata": {
        "colab": {
          "base_uri": "https://localhost:8080/"
        },
        "id": "ldaMxwhK5nPV",
        "outputId": "004abc81-e549-4a45-ae98-fc61c8fa0a72"
      },
      "execution_count": 42,
      "outputs": [
        {
          "output_type": "stream",
          "name": "stdout",
          "text": [
            "           c++       php    python  answer  \\\n",
            "0     0.954575  0.018514  0.026912     c++   \n",
            "1     0.039504  0.040053  0.920443  python   \n",
            "2     0.524181  0.250651  0.225168     c++   \n",
            "3     0.838671  0.059351  0.101978     c++   \n",
            "4     0.322592  0.561795  0.115612     php   \n",
            "...        ...       ...       ...     ...   \n",
            "1193  0.611105  0.091385  0.297509     c++   \n",
            "1194  0.009580  0.045622  0.944798  python   \n",
            "1195  0.856198  0.056801  0.087001     c++   \n",
            "1196  0.057542  0.023947  0.918511  python   \n",
            "1197  0.074124  0.021913  0.903963  python   \n",
            "\n",
            "                                                   text predicted_cat  \n",
            "0     cerr working wrote function takes two numbers ...           c++  \n",
            "1     unpack list fewer variables k name view id tok...        python  \n",
            "2     accessing encrypted archives want write passwo...           c++  \n",
            "3     deallocate derived dynamic memory member say c...           c++  \n",
            "4     best practices check constant array using php ...           php  \n",
            "...                                                 ...           ...  \n",
            "1193  fill list pointers trying fill list pointers o...           c++  \n",
            "1194  python functions loops new python programming ...        python  \n",
            "1195  assign value variable type integer trying find...           c++  \n",
            "1196  lucky numbers python program incorrect python ...        python  \n",
            "1197  find print function called program execution r...        python  \n",
            "\n",
            "[1148 rows x 6 columns]\n"
          ]
        }
      ]
    },
    {
      "cell_type": "code",
      "source": [
        "#using coefficient\n",
        "logreg.coef_.shape"
      ],
      "metadata": {
        "colab": {
          "base_uri": "https://localhost:8080/"
        },
        "id": "To4C2UBw5sXm",
        "outputId": "4bc2717f-a927-4fdd-94ac-2e0ed80112dc"
      },
      "execution_count": 43,
      "outputs": [
        {
          "output_type": "execute_result",
          "data": {
            "text/plain": [
              "(3, 18651)"
            ]
          },
          "metadata": {},
          "execution_count": 43
        }
      ]
    },
    {
      "cell_type": "code",
      "source": [
        "tfidf.get_feature_names_out().shape"
      ],
      "metadata": {
        "colab": {
          "base_uri": "https://localhost:8080/"
        },
        "id": "lRFb7Rm75sa_",
        "outputId": "24c99dea-dba1-4a6e-b6d8-1769586b3693"
      },
      "execution_count": 44,
      "outputs": [
        {
          "output_type": "execute_result",
          "data": {
            "text/plain": [
              "(18651,)"
            ]
          },
          "metadata": {},
          "execution_count": 44
        }
      ]
    },
    {
      "cell_type": "code",
      "source": [
        "DF_coef = pd.DataFrame(logreg.coef_.T, columns = [\"c++\", \"php\", \"python\"])\n",
        "DF_coef['words'] = tfidf.get_feature_names_out().T\n",
        "print(DF_coef)"
      ],
      "metadata": {
        "colab": {
          "base_uri": "https://localhost:8080/"
        },
        "id": "OC7TUPS75seI",
        "outputId": "bcac9ed4-c8dd-48ea-891b-a61a0d81a9d6"
      },
      "execution_count": 45,
      "outputs": [
        {
          "output_type": "stream",
          "name": "stdout",
          "text": [
            "            c++       php    python   words\n",
            "0      0.104131 -0.215487  0.111355      aa\n",
            "1     -0.147217 -0.045678  0.192896     aaa\n",
            "2     -0.020457  0.043414 -0.022957    aaaa\n",
            "3     -0.095973  0.194119 -0.098146   aaaaa\n",
            "4     -0.017229  0.032964 -0.015736  aaaaaa\n",
            "...         ...       ...       ...     ...\n",
            "18646  0.028325 -0.018682 -0.009643   цикла\n",
            "18647 -0.010366 -0.012088  0.022454     что\n",
            "18648  0.008684 -0.004007 -0.004678      एक\n",
            "18649 -0.013060  0.028431 -0.015372      号码\n",
            "18650  0.161400 -0.073889 -0.087511      한글\n",
            "\n",
            "[18651 rows x 4 columns]\n"
          ]
        }
      ]
    },
    {
      "cell_type": "code",
      "source": [
        "from sklearn.pipeline import make_pipeline\n",
        "pipeline = make_pipeline(tfidf, logreg)\n",
        "pipeline.predict_proba([\"value initialization of inherited pod types  suppose the following:   <pre><code>struct pod1 { int a; }; struct pod2 : pod1 { int b; };  int main() {     pod2 p2 = pod2();     return 0; } </code></pre>  will both <code>p2.a</code> and <code>p2.b</code> equal 0 after <code>p2</code> is defined  basically i m not sure if the value initialization rules also apply to base classes of pod types.\"])"
      ],
      "metadata": {
        "colab": {
          "base_uri": "https://localhost:8080/"
        },
        "id": "om2VxjgAI0hS",
        "outputId": "66ba5a51-15e9-40c7-bd5d-a2bf86b89c62"
      },
      "execution_count": 46,
      "outputs": [
        {
          "output_type": "execute_result",
          "data": {
            "text/plain": [
              "array([[0.91856231, 0.0299764 , 0.05146129]])"
            ]
          },
          "metadata": {},
          "execution_count": 46
        }
      ]
    },
    {
      "cell_type": "code",
      "source": [
        "from lime.lime_text import LimeTextExplainer\n",
        "explainer = LimeTextExplainer(class_names = Y_train.sort_values().unique())\n",
        "\n",
        "id_values = [1,14,435,550,755]\n",
        "for id_value in id_values:\n",
        "  print('Document id: %d' % id_value)\n",
        "  print('Predicted class =', right_answers.iloc[id_value][\"predicted_cat\"])\n",
        "  print('True class: %s' % right_answers.iloc[id_value][\"answer\"])\n",
        "  print(right_answers.iloc[id_value]['text'])"
      ],
      "metadata": {
        "colab": {
          "base_uri": "https://localhost:8080/"
        },
        "id": "BdSINXsTI4g5",
        "outputId": "f5ac2490-fffb-4fb4-fdd3-6e9ea137f069"
      },
      "execution_count": 47,
      "outputs": [
        {
          "output_type": "stream",
          "name": "stdout",
          "text": [
            "Document id: 1\n",
            "Predicted class = python\n",
            "True class: python\n",
            "unpack list fewer variables k name view id tokens k traceback recent call last file line valueerror many values unpack need provide variables unpack list way unpack fewer tokens gets rest list want write another line append list thanks course slice list assign individually etc want know want using syntax\n",
            "Document id: 14\n",
            "Predicted class = php\n",
            "True class: php\n",
            "split digit php achieve number seperately given variable store php function\n",
            "Document id: 435\n",
            "Predicted class = php\n",
            "True class: php\n",
            "variable value types simple question variable type php two values array row type float one decimal like row type float one decimal like actually try make calculation row row row need integer without point like result two decimal like tried way dsf row conf row dsf echo conf returns wrong result example row change format change row conf something around number expect get change format using conf instead program return number wrong\n",
            "Document id: 550\n",
            "Predicted class = python\n",
            "True class: python\n",
            "algorithm choose number random numbers list python looking efficient way pseudocode choose given number values randomly list preferably pythonic way values come unique indexes list example list def choose list method choose list\n",
            "Document id: 755\n",
            "Predicted class = php\n",
            "True class: php\n",
            "missing argument php function ok calling variables mysql database static good call function like var hi function fun var var correct display result call multiple variables mysql database show missing argument variable defined define result separate variables like var function fun var var anyone help\n"
          ]
        }
      ]
    },
    {
      "cell_type": "markdown",
      "source": [
        "#### For Document id 755, the predicted and true class both are \"php\". The model has labelled this row as 'php' because of few features like 'php','database','function' etc in it."
      ],
      "metadata": {
        "id": "NSpUpYSfiEGX"
      }
    },
    {
      "cell_type": "code",
      "source": [
        "exp = explainer.explain_instance(right_answers.iloc[755][\"text\"],\n",
        "      pipeline.predict_proba, num_features=10)\n",
        "\n",
        "exp.as_pyplot_figure()\n",
        "plt.show()"
      ],
      "metadata": {
        "colab": {
          "base_uri": "https://localhost:8080/",
          "height": 452
        },
        "id": "sz0mPd7uJJsC",
        "outputId": "46cad115-32b3-4076-c974-78eaafb6b04a"
      },
      "execution_count": 48,
      "outputs": [
        {
          "output_type": "display_data",
          "data": {
            "text/plain": [
              "<Figure size 640x480 with 1 Axes>"
            ],
            "image/png": "[encoded data removed]"
          },
          "metadata": {}
        }
      ]
    },
    {
      "cell_type": "code",
      "source": [
        "exp.save_to_file('example.html')"
      ],
      "metadata": {
        "id": "5XVsbElpJMSV"
      },
      "execution_count": 49,
      "outputs": []
    },
    {
      "cell_type": "markdown",
      "source": [
        "### Lime\n",
        "Lime is a package that helps us explain models. Lime allows to actually give new data and see what probabilities will it give to new cases. It interpret the predictions by highlighting which features (in this case, words or tokens) are most influential for a given prediction.\n",
        "\n",
        "The chart above shows that certain features like -\n",
        "\n",
        "*   'php', 'database', 'var', and others -> strong indicators that the instance belongs to the \"php\" class (green bars)\n",
        "*   'argument', 'call', 'fun' -> decrease the probability that the instance is classified as \"php\" (red bars). Maybe they might be more related \"python\" or \"c++\" labels.\n"
      ],
      "metadata": {
        "id": "6vobuBZJKuUp"
      }
    },
    {
      "cell_type": "markdown",
      "source": [
        "## Write a paragraph summarizing the results from your comparisons. What models are best? Are there any general differences/similarities in prediction you see? How well is each category label classified? What might you do to make the model better?"
      ],
      "metadata": {
        "id": "7cX04mUUOalI"
      }
    },
    {
      "cell_type": "markdown",
      "source": [
        "The comparison results show differences in performance depending on the feature extraction method used.\n",
        "\n",
        "1. When using TF-IDF, both Logistic Regression and SVM classifiers perform remarkably well across all categories (C++, PHP, Python), with precision, recall, and F1-scores mostly around 0.96. This suggests that TF-IDF effectively captures the key features of the data.\n",
        "\n",
        "2. The Bag of Words method also performs strongly, though slightly behind TF-IDF, with F1-scores ranging from 0.93 to 0.95 for both classifiers.\n",
        "\n",
        "3. On the other hand, the Word Embedding method underperforms, with F1-scores around 0.54 to 0.58, indicating it may not be suitable for this particular task.\n",
        "\n",
        "From the result of confusion matrix (Log) using TF-IDF feature extraction process, it is worth noting that 381, 385 and 382 texts have been correctly predicted by the model as c++, python and php tags respectively.\n",
        "\n",
        "Between Logistic Regression and SVM, the results indicate that both models perform similarly well when using TF-IDF and Bag of Words feature extraction methods, with minimal differences in their precision, recall, and F1-scores. However, the SVM model shows a slight edge in performance with TF-IDF, achieving marginally higher precision and recall values, especially for the C++ category. Therefore, if choosing the best model based solely on these results, the SVM with TF-IDF feature extraction appears to be the best performing combination.\n",
        "\n",
        "To improve the models, exploring alternative feature extraction techniques could be used, further tuning hyperparameters of models used here (logistic regression and SVM) could have been done, more supervised ML models could have been also implemeted here except logistic and SVM (like naive bayes, decision tree etc), ensembling techniques could also have been used (which is combining features of multiple ML models). Moreover, there was no need of over/under sampling in our case because the dependent label 'tags' was uniformly distributed between it's three categories (c++, python and php)."
      ],
      "metadata": {
        "id": "BLiesQAtOW0Y"
      }
    },
    {
      "cell_type": "markdown",
      "source": [
        "## Step 6: Application\n",
        "\n",
        "## Describe some real-world application that could use the techniques from this section. Define a problem or question, what data would be needed, how the data would be analyzed, and what insights/solutions could be drawn from the analysis.\n",
        "\n",
        "- Real-world application: Sentiment analysis in customer reviews\n",
        "(Some more application could be - Healthcare Sentiment Analysis, Social media monitoring).\n",
        "\n",
        "- Problem: A retail company wants to analyze customer reviews to understand their sentiments about different products. The goal here is to classify reviews as positive, negative, or neutral automatically, thus understanding insights into customer satisfaction.\n",
        "\n",
        "- Data Needed: The data could contain multiple columns like demographic details about the customers, such as age, gender, and location. Metadata related to the reviewed products, including product category, price, and specifications. Text reviews from customers, each marked with the sentiment expressed—positive, negative, or neutral.\n",
        "\n",
        "- Data Analysis: Data Analysis (Pre-processing) is a vital step to build any ML model on the data. Few steps which are required to be followed after loading the dataset are:\n",
        "1. Creating a summary of the dataset (how many labels are there in dependent column, whether it's balanced or unbalanced).\n",
        "2. Cleaning the dataset (concatenating, dropping columns removing null rows, removing irrelevant tags & punctuation from text, removing stops words (or if stop words are important then can do stemming/lemmatization or both as req)\n",
        "3. Splitting the dataset (mostly 80-20 is the split ratio between train-test but it could vary depending upon the length of the dataset).\n",
        "4. Using feature extraction techniques to convert text to numbers. There are multiple feature extraction techniques like TF-IDF, Bag of words, Doc2Text, Word Embedding etc (of all TF-IDF could be considered the best in majority of cases).\n",
        "5. After feature extraction, different supervised ML models (supervised since our data has the dependent field (which is reviews here)) could be implemented and it's performance could be evaluated (again there are multiple metrics to access the model's performance like accuracy, precision etc.).\n",
        "\n",
        "- Insights/solutions:\n",
        "1. Helps the company understand overall sentiments about its products, determining what customers like or dislike.\n",
        "2. Identify issues from negative reviews to make informed decisions on product improvements.\n",
        "3. Use positive reviews to highlight strengths in marketing campaigns.\n",
        "\n",
        "\n",
        "\n",
        "\n",
        "\n",
        "\n",
        "\n"
      ],
      "metadata": {
        "datalore": {
          "node_id": "L7Lx9G8Gyw2Qs1E02X18Fo",
          "type": "MD",
          "hide_input_from_viewers": true,
          "hide_output_from_viewers": true
        },
        "id": "MCf6X5ZfhO1u"
      }
    }
  ],
  "metadata": {
    "kernelspec": {
      "display_name": "Python",
      "language": "python",
      "name": "python"
    },
    "datalore": {
      "computation_mode": "JUPYTER",
      "package_manager": "pip",
      "base_environment": "minimal",
      "packages": [
        {
          "name": "nltk",
          "version": "3.8.1",
          "source": "PIP"
        },
        {
          "name": "textacy",
          "version": "0.12.0",
          "source": "PIP"
        },
        {
          "name": "spacy",
          "version": "3.5.3",
          "source": "PIP"
        }
      ],
      "report_row_ids": [],
      "version": 2
    },
    "colab": {
      "provenance": []
    }
  },
  "nbformat": 4,
  "nbformat_minor": 0
}